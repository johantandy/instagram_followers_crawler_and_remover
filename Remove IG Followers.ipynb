{
 "cells": [
  {
   "cell_type": "markdown",
   "id": "55bb27b8",
   "metadata": {},
   "source": [
    "## Instagram personal followers crawler & remover\n",
    "\n",
    "Warning .. don't run all cells at once!"
   ]
  },
  {
   "cell_type": "code",
   "execution_count": 1,
   "id": "9fde341b",
   "metadata": {
    "scrolled": true
   },
   "outputs": [],
   "source": [
    "from selenium.webdriver.firefox.options import Options\n",
    "from selenium import webdriver\n",
    "from urllib.parse import urljoin\n",
    "from selenium.webdriver.support.ui import WebDriverWait\n",
    "from selenium.webdriver.support import expected_conditions as EC\n",
    "from selenium.webdriver.common.by import By\n",
    "import time\n",
    "from datetime import datetime\n",
    "import pandas as pd\n"
   ]
  },
  {
   "cell_type": "markdown",
   "id": "aefb2eaa",
   "metadata": {},
   "source": [
    "### Initiate firefox browser"
   ]
  },
  {
   "cell_type": "code",
   "execution_count": 2,
   "id": "23d4b361",
   "metadata": {},
   "outputs": [],
   "source": [
    "options = Options()\n",
    "driver = webdriver.Firefox(options=options)"
   ]
  },
  {
   "cell_type": "markdown",
   "id": "1f9b7cac",
   "metadata": {},
   "source": [
    "### Instagram user login & Crawling followers"
   ]
  },
  {
   "cell_type": "markdown",
   "id": "71c5d1a1",
   "metadata": {},
   "source": [
    "Execute cell below and login manually on the firefox browser (the code will wait for 5 mins)\n",
    "\n",
    "Please click \"Not Now\" if there's a \"Save Login\" page"
   ]
  },
  {
   "cell_type": "code",
   "execution_count": 3,
   "id": "4bdc7c06",
   "metadata": {
    "scrolled": true
   },
   "outputs": [
    {
     "name": "stderr",
     "output_type": "stream",
     "text": [
      "C:\\Users\\johantandy\\AppData\\Local\\Temp\\ipykernel_8144\\2649968052.py:21: DeprecationWarning: find_elements_by_css_selector is deprecated. Please use find_elements(by=By.CSS_SELECTOR, value=css_selector) instead\n",
      "  current = len(driver.find_elements_by_css_selector('div._ab9-'))\n"
     ]
    },
    {
     "name": "stdout",
     "output_type": "stream",
     "text": [
      "Num of followers :562, first fetch :10\n",
      "Now collecting followers :10\r"
     ]
    },
    {
     "name": "stderr",
     "output_type": "stream",
     "text": [
      "C:\\Users\\johantandy\\AppData\\Local\\Temp\\ipykernel_8144\\2649968052.py:27: DeprecationWarning: find_elements_by_css_selector is deprecated. Please use find_elements(by=By.CSS_SELECTOR, value=css_selector) instead\n",
      "  current = len(driver.find_elements_by_css_selector('div._ab9-'))\n"
     ]
    },
    {
     "name": "stdout",
     "output_type": "stream",
     "text": [
      "Now collecting followers :562\r"
     ]
    }
   ],
   "source": [
    "HOST = 'http://www.instagram.com'\n",
    "driver.get(HOST)\n",
    "\n",
    "# try:\n",
    "#     WebDriverWait(driver, 300).until(\n",
    "#             EC.presence_of_element_located((By.XPATH , '//div[@class =\"cmbtv\"]'))\n",
    "#             ).click()\n",
    "# except Exception as e:\n",
    "#     print(\"No save login prompt\")\n",
    "    \n",
    "element = WebDriverWait(driver, 300).until(\n",
    "        EC.presence_of_element_located((By.XPATH , '//div[@class =\"_aacl _aaco _aacu _aacx _aada\"]'))\n",
    "        )\n",
    "username = element.text\n",
    "driver.get(urljoin(HOST,element.text+\"/followers\"))\n",
    "\n",
    "div_followers = WebDriverWait(driver, 20).until(\n",
    "        EC.presence_of_element_located((By.XPATH , '//div[@class =\"_aano\"]'))\n",
    "        )\n",
    "\n",
    "current = len(driver.find_elements_by_css_selector('div._ab9-'))\n",
    "\n",
    "verical_ordinate = 100\n",
    "num_followers = int(driver.find_element(By.CSS_SELECTOR,'li._aa_5:nth-child(2) > a:nth-child(1) > div:nth-child(1) > span:nth-child(1)').text)\n",
    "print(\"Num of followers :\"+str(num_followers)+\", first fetch :\"+str(current))\n",
    "while current < num_followers :\n",
    "    current = len(driver.find_elements_by_css_selector('div._ab9-'))\n",
    "    print(\"Now collecting followers :\"+str(current),end='\\r')\n",
    "    driver.execute_script(\"arguments[0].scrollTop = arguments[1]\", div_followers, verical_ordinate)\n",
    "    verical_ordinate +=5000\n",
    "    time.sleep(2)"
   ]
  },
  {
   "cell_type": "markdown",
   "id": "05315b92",
   "metadata": {},
   "source": [
    "### Dump mutual & non mutual followers to CSV"
   ]
  },
  {
   "cell_type": "code",
   "execution_count": 4,
   "id": "86903642",
   "metadata": {
    "scrolled": true
   },
   "outputs": [
    {
     "name": "stderr",
     "output_type": "stream",
     "text": [
      "C:\\Users\\johantandy\\AppData\\Local\\Temp\\ipykernel_8144\\1319165261.py:11: DeprecationWarning: find_elements_by_css_selector is deprecated. Please use find_elements(by=By.CSS_SELECTOR, value=css_selector) instead\n",
      "  for i in driver.find_elements_by_css_selector('div._ab9-'):\n",
      "C:\\Users\\johantandy\\AppData\\Local\\Temp\\ipykernel_8144\\1319165261.py:12: DeprecationWarning: find_elements_by_css_selector is deprecated. Please use find_elements(by=By.CSS_SELECTOR, value=css_selector) instead\n",
      "  div = i.find_elements_by_css_selector('div._ab94')\n",
      "C:\\Users\\johantandy\\AppData\\Local\\Temp\\ipykernel_8144\\1319165261.py:13: DeprecationWarning: find_elements_by_css_selector is deprecated. Please use find_elements(by=By.CSS_SELECTOR, value=css_selector) instead\n",
      "  username = i.find_elements_by_css_selector('div._ab94')[3].text\n",
      "C:\\Users\\johantandy\\AppData\\Local\\Temp\\ipykernel_8144\\1319165261.py:14: DeprecationWarning: find_elements_by_css_selector is deprecated. Please use find_elements(by=By.CSS_SELECTOR, value=css_selector) instead\n",
      "  full_name = i.find_elements_by_css_selector('div._ab94')[4].text\n",
      "C:\\Users\\johantandy\\AppData\\Local\\Temp\\ipykernel_8144\\1319165261.py:25: DeprecationWarning: find_elements_by_css_selector is deprecated. Please use find_elements(by=By.CSS_SELECTOR, value=css_selector) instead\n",
      "  full_name = i.find_elements_by_css_selector('div._ab94')[6].text\n"
     ]
    }
   ],
   "source": [
    "import pandas as pd\n",
    "\n",
    "username_mutual = []\n",
    "fullname_mutual = []\n",
    "div_id_mutual = []\n",
    "\n",
    "username_not_mutual = []\n",
    "fullname_not_mutual = []\n",
    "div_id_not_mutual = []\n",
    "\n",
    "for i in driver.find_elements_by_css_selector('div._ab9-'):\n",
    "    div = i.find_elements_by_css_selector('div._ab94')\n",
    "    username = i.find_elements_by_css_selector('div._ab94')[3].text\n",
    "    full_name = i.find_elements_by_css_selector('div._ab94')[4].text\n",
    "    id = i.get_attribute(\"aria-labelledby\").split(\" \")[0]\n",
    "    \n",
    "    #mutual\n",
    "    if '·' not in username and '·' not in full_name:\n",
    "        username_mutual.append(username)\n",
    "        fullname_mutual.append(full_name)\n",
    "        div_id_mutual.append(id)\n",
    "    \n",
    "    #not mutual    \n",
    "    else:\n",
    "        full_name = i.find_elements_by_css_selector('div._ab94')[6].text\n",
    "        username = username.split('\\n')[0]\n",
    "        username_not_mutual.append(username)\n",
    "        fullname_not_mutual.append(full_name)\n",
    "        div_id_not_mutual.append(id)\n",
    "\n",
    "df_mutual = pd.DataFrame({\n",
    "    \"username\": username_mutual,\n",
    "    \"fullname\" : fullname_mutual,\n",
    "    \"id\" : div_id_mutual\n",
    "})\n",
    "\n",
    "df_non_mutual =  pd.DataFrame({\n",
    "    \"username\": username_not_mutual,\n",
    "    \"fullname\" : fullname_not_mutual,\n",
    "    \"id\" : div_id_not_mutual\n",
    "})\n",
    "\n",
    "now = datetime.now().strftime(\"%Y_%m_%d_%H_%M_%S\")\n",
    "\n",
    "df_mutual.to_csv(\"list_mutual_followers_\"+now+\".csv\")\n",
    "df_non_mutual.to_csv(\"list_non_mutual_followers_\"+now+\".csv\")\n"
   ]
  },
  {
   "cell_type": "markdown",
   "id": "b07746e6",
   "metadata": {},
   "source": [
    "### Remove top x non mutual followers"
   ]
  },
  {
   "cell_type": "code",
   "execution_count": 19,
   "id": "4d69fa00",
   "metadata": {},
   "outputs": [
    {
     "name": "stdout",
     "output_type": "stream",
     "text": [
      "follower removed : 10\r"
     ]
    }
   ],
   "source": [
    "x_followers = 10\n",
    "idx = 0 \n",
    "now = datetime.now().strftime(\"%Y_%m_%d_%H_%M_%S\")\n",
    "with open(\"list_removed_non_mutual_followers\"+now+\".csv\", \"w\") as file_object:\n",
    "    file_object.write(\"username,fullname\\n\")\n",
    "for idx,fol in enumerate(div_id_not_mutual):\n",
    "    if idx < x_followers:\n",
    "        full_name = fullname_not_mutual[idx]\n",
    "        username = username_not_mutual[idx]\n",
    "#         print(username,full_name)\n",
    "        with open(\"list_removed_non_mutual_followers\"+now+\".csv\", \"a\", encoding=\"utf-8\") as file_object:\n",
    "            file_object.write(','.join([username,full_name])+\"\\n\")\n",
    "\n",
    "        driver.find_element(By.XPATH, '//div[@id =\"'+fol+'\"]').click()\n",
    "\n",
    "        #uncomment this if u ready to remove your followers\n",
    "#             element = WebDriverWait(driver, 10).until(\n",
    "#             EC.presence_of_element_located((By.XPATH , '//button[@class =\"_a9-- _a9-_\"]'))\n",
    "#             )\n",
    "        #########################################\n",
    "\n",
    "        #run this if you want to check which followers will be removed\n",
    "        # comment this if you want to remove your followers\n",
    "        element = WebDriverWait(driver, 10).until(\n",
    "        EC.presence_of_element_located((By.XPATH , '//button[@class =\"_a9-- _a9_1\"]'))\n",
    "        )\n",
    "        #########################################\n",
    "\n",
    "\n",
    "        element.click()\n",
    "        print(\"follower removed : \"+str(idx+1),end='\\r')\n",
    "    else:\n",
    "        break\n",
    "        "
   ]
  },
  {
   "cell_type": "code",
   "execution_count": 16,
   "id": "b5becb42",
   "metadata": {},
   "outputs": [
    {
     "data": {
      "text/plain": [
       "562"
      ]
     },
     "execution_count": 16,
     "metadata": {},
     "output_type": "execute_result"
    }
   ],
   "source": [
    "len(username_mutual)+len(username_not_mutual)"
   ]
  }
 ],
 "metadata": {
  "kernelspec": {
   "display_name": "Python 3 (ipykernel)",
   "language": "python",
   "name": "python3"
  },
  "language_info": {
   "codemirror_mode": {
    "name": "ipython",
    "version": 3
   },
   "file_extension": ".py",
   "mimetype": "text/x-python",
   "name": "python",
   "nbconvert_exporter": "python",
   "pygments_lexer": "ipython3",
   "version": "3.9.13"
  }
 },
 "nbformat": 4,
 "nbformat_minor": 5
}
